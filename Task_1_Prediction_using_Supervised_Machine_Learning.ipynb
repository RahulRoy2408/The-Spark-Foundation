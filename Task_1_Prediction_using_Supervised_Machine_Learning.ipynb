{
 "cells": [
  {
   "cell_type": "markdown",
   "metadata": {
    "id": "GzfdMfk10NE6"
   },
   "source": [
    "# **The Sparks Foundation - GRIP**\n",
    "\n",
    "## **Data Science & Business Analytics Intern - May'21**\n",
    "\n",
    "### **Task 1: Prediction using Supervised Machine Learning**\n",
    "\n",
    "**AIM - Predict the percentage of an student based on the number of study hours. Find the predicted score if a student studies for 9.25 hrs/day. This is a simple linear regression task as it involves just two variables.**"
   ]
  },
  {
   "cell_type": "markdown",
   "metadata": {
    "id": "X6A8Hm86UUZ-"
   },
   "source": [
    "## Author: Rahul Roy"
   ]
  },
  {
   "cell_type": "markdown",
   "metadata": {
    "id": "TUJ9N9XONeEw"
   },
   "source": [
    "### *STEP 1: IMPORTING THE STANDARD LIBRARIES*"
   ]
  },
  {
   "cell_type": "code",
   "execution_count": 2,
   "metadata": {
    "id": "V9QN2ZxC38pB"
   },
   "outputs": [],
   "source": [
    "import pandas as pd\n",
    "import numpy as np  \n",
    "import matplotlib.pyplot as plt \n",
    "from sklearn import linear_model\n",
    "import statsmodels.api as sm\n",
    "%matplotlib inline"
   ]
  },
  {
   "cell_type": "markdown",
   "metadata": {
    "id": "sPcH0QvxNeE3"
   },
   "source": [
    "### *STEP 2: READING THE DATA FROM THE LINK PROVIDED*"
   ]
  },
  {
   "cell_type": "code",
   "execution_count": 3,
   "metadata": {
    "colab": {
     "base_uri": "https://localhost:8080/",
     "height": 376
    },
    "id": "LtU4YMEhqm9m",
    "outputId": "ce56cb20-8da0-4169-9e7d-797a346b2f35"
   },
   "outputs": [
    {
     "name": "stdout",
     "output_type": "stream",
     "text": [
      "Data imported successfully\n"
     ]
    },
    {
     "data": {
      "text/html": [
       "<div>\n",
       "<style scoped>\n",
       "    .dataframe tbody tr th:only-of-type {\n",
       "        vertical-align: middle;\n",
       "    }\n",
       "\n",
       "    .dataframe tbody tr th {\n",
       "        vertical-align: top;\n",
       "    }\n",
       "\n",
       "    .dataframe thead th {\n",
       "        text-align: right;\n",
       "    }\n",
       "</style>\n",
       "<table border=\"1\" class=\"dataframe\">\n",
       "  <thead>\n",
       "    <tr style=\"text-align: right;\">\n",
       "      <th></th>\n",
       "      <th>Hours</th>\n",
       "      <th>Scores</th>\n",
       "    </tr>\n",
       "  </thead>\n",
       "  <tbody>\n",
       "    <tr>\n",
       "      <th>0</th>\n",
       "      <td>2.5</td>\n",
       "      <td>21</td>\n",
       "    </tr>\n",
       "    <tr>\n",
       "      <th>1</th>\n",
       "      <td>5.1</td>\n",
       "      <td>47</td>\n",
       "    </tr>\n",
       "    <tr>\n",
       "      <th>2</th>\n",
       "      <td>3.2</td>\n",
       "      <td>27</td>\n",
       "    </tr>\n",
       "    <tr>\n",
       "      <th>3</th>\n",
       "      <td>8.5</td>\n",
       "      <td>75</td>\n",
       "    </tr>\n",
       "    <tr>\n",
       "      <th>4</th>\n",
       "      <td>3.5</td>\n",
       "      <td>30</td>\n",
       "    </tr>\n",
       "    <tr>\n",
       "      <th>5</th>\n",
       "      <td>1.5</td>\n",
       "      <td>20</td>\n",
       "    </tr>\n",
       "    <tr>\n",
       "      <th>6</th>\n",
       "      <td>9.2</td>\n",
       "      <td>88</td>\n",
       "    </tr>\n",
       "    <tr>\n",
       "      <th>7</th>\n",
       "      <td>5.5</td>\n",
       "      <td>60</td>\n",
       "    </tr>\n",
       "    <tr>\n",
       "      <th>8</th>\n",
       "      <td>8.3</td>\n",
       "      <td>81</td>\n",
       "    </tr>\n",
       "    <tr>\n",
       "      <th>9</th>\n",
       "      <td>2.7</td>\n",
       "      <td>25</td>\n",
       "    </tr>\n",
       "  </tbody>\n",
       "</table>\n",
       "</div>"
      ],
      "text/plain": [
       "   Hours  Scores\n",
       "0    2.5      21\n",
       "1    5.1      47\n",
       "2    3.2      27\n",
       "3    8.5      75\n",
       "4    3.5      30\n",
       "5    1.5      20\n",
       "6    9.2      88\n",
       "7    5.5      60\n",
       "8    8.3      81\n",
       "9    2.7      25"
      ]
     },
     "execution_count": 3,
     "metadata": {},
     "output_type": "execute_result"
    }
   ],
   "source": [
    "data = pd.read_csv(\"http://bit.ly/w-data\")\n",
    "print(\"Data imported successfully\")\n",
    "data.head(10) #displays the first 10 rows of the data"
   ]
  },
  {
   "cell_type": "markdown",
   "metadata": {
    "id": "RHsPneuM4NgB"
   },
   "source": [
    "### *STEP 3: VISUALIZING THE DATA USING SCATTER PLOT*"
   ]
  },
  {
   "cell_type": "code",
   "execution_count": 4,
   "metadata": {
    "colab": {
     "base_uri": "https://localhost:8080/",
     "height": 300
    },
    "id": "qxYBZkhAqpn9",
    "outputId": "dab6e541-3d43-4c71-e9be-dfbdf3a926cd"
   },
   "outputs": [
    {
     "data": {
      "image/png": "[encoded data removed]",
      "text/plain": [
       "<Figure size 432x288 with 1 Axes>"
      ]
     },
     "metadata": {
      "needs_background": "light"
     },
     "output_type": "display_data"
    }
   ],
   "source": [
    "data.plot(x='Hours', y='Scores',kind='scatter')  \n",
    "plt.title('Study Hours vs Percentage of marks obtained',fontsize=14)  \n",
    "plt.xlabel('Hours Studied',fontsize=14)  \n",
    "plt.ylabel('Percentage Score',fontsize=14) \n",
    "plt.grid(True)\n",
    "plt.show()"
   ]
  },
  {
   "cell_type": "markdown",
   "metadata": {
    "id": "fiQaULio4Rzr"
   },
   "source": [
    "**From the above graph, we can clearly see that there is a positive linear relation between the number of hours studied and percentage of score. Hence, we build a Linear regression model**"
   ]
  },
  {
   "cell_type": "markdown",
   "metadata": {
    "id": "WWtEr64M4jdz"
   },
   "source": [
    "### **STEP 4: DIVIDING THE DATA INTO ATTRIBUTES AND LABELS i.e. PREPARING THE DATA**\n",
    "Here the attributes refer to number of hours studied and label refers to the scores of students"
   ]
  },
  {
   "cell_type": "code",
   "execution_count": 5,
   "metadata": {
    "colab": {
     "base_uri": "https://localhost:8080/"
    },
    "id": "LiJ5210e4tNX",
    "outputId": "b061f900-8df3-45cd-90cc-68778ec481d9"
   },
   "outputs": [
    {
     "name": "stdout",
     "output_type": "stream",
     "text": [
      "Values of x [[2.5]\n",
      " [5.1]\n",
      " [3.2]\n",
      " [8.5]\n",
      " [3.5]\n",
      " [1.5]\n",
      " [9.2]\n",
      " [5.5]\n",
      " [8.3]\n",
      " [2.7]\n",
      " [7.7]\n",
      " [5.9]\n",
      " [4.5]\n",
      " [3.3]\n",
      " [1.1]\n",
      " [8.9]\n",
      " [2.5]\n",
      " [1.9]\n",
      " [6.1]\n",
      " [7.4]\n",
      " [2.7]\n",
      " [4.8]\n",
      " [3.8]\n",
      " [6.9]\n",
      " [7.8]]\n",
      "Values of y [21 47 27 75 30 20 88 60 81 25 85 62 41 42 17 95 30 24 67 69 30 54 35 76\n",
      " 86]\n"
     ]
    }
   ],
   "source": [
    "x= data.iloc[:, :-1].values  \n",
    "y = data.iloc[:, 1].values  \n",
    "print(\"Values of x\",x)\n",
    "print(\"Values of y\",y)"
   ]
  },
  {
   "cell_type": "markdown",
   "metadata": {
    "id": "Riz-ZiZ34fO4"
   },
   "source": [
    "### STEP 5: SPLITTING DATA INTO TRAINING AND TEST SETS\n",
    "*Using Scikit-Learn's built in train_test_split() method:*"
   ]
  },
  {
   "cell_type": "code",
   "execution_count": 6,
   "metadata": {
    "id": "udFYso1M4BNw"
   },
   "outputs": [],
   "source": [
    "from sklearn.model_selection import train_test_split  \n",
    "x_train, x_test, y_train, y_test = train_test_split(x, y, \n",
    "                            test_size=0.2, random_state=0) "
   ]
  },
  {
   "cell_type": "markdown",
   "metadata": {
    "id": "a6WXptFU5CkC"
   },
   "source": [
    "### **STEP 6: TRAINING THE ALGORITHM**\n",
    "*We have split our data into training and testing sets, and now is finally the time to train our algorithm.* "
   ]
  },
  {
   "cell_type": "code",
   "execution_count": 7,
   "metadata": {
    "colab": {
     "base_uri": "https://localhost:8080/"
    },
    "id": "qddCuaS84fpK",
    "outputId": "23540961-e6eb-4be9-d197-a38940007008"
   },
   "outputs": [
    {
     "name": "stdout",
     "output_type": "stream",
     "text": [
      "Intercept: \n",
      " 2.018160041434683\n",
      "Coefficient: \n",
      " [9.91065648]\n",
      "Training complete.\n"
     ]
    }
   ],
   "source": [
    "lm =linear_model.LinearRegression()  \n",
    "model=lm.fit(x_train, y_train) \n",
    "print(\"Intercept: \\n\",model.intercept_)\n",
    "print(\"Coefficient: \\n\",model.coef_)\n",
    "print(\"Training complete.\")"
   ]
  },
  {
   "cell_type": "markdown",
   "metadata": {
    "id": "4jbS16IUNeFV"
   },
   "source": [
    "### STEP 7: VISUALIZATION OF REGRESSION LINE \n",
    "*REGRESSION LINE IS GIVEN BY: y=coefficient*x + intercept*\n",
    "*THUS IT WILL BE*\n",
    "*y=9.91065648x +2.01816000414134683*"
   ]
  },
  {
   "cell_type": "code",
   "execution_count": 8,
   "metadata": {
    "colab": {
     "base_uri": "https://localhost:8080/",
     "height": 283
    },
    "id": "J61NX2_2-px7",
    "outputId": "3ba1da60-66ee-4cbe-b82d-1383f46523e0"
   },
   "outputs": [
    {
     "data": {
      "image/png": "[encoded data removed]",
      "text/plain": [
       "<Figure size 432x288 with 1 Axes>"
      ]
     },
     "metadata": {
      "needs_background": "light"
     },
     "output_type": "display_data"
    }
   ],
   "source": [
    "# Plotting the regression line\n",
    "line = model.coef_*x+model.intercept_\n",
    "\n",
    "# Plotting for the test data\n",
    "plt.scatter(x_train, y_train)\n",
    "plt.plot(x_train,lm.predict(x_train),color='GREEN');\n",
    "plt.xlabel(\"hours\",fontsize=14)\n",
    "plt.ylabel(\"scores\",fontsize=14)\n",
    "plt.show()"
   ]
  },
  {
   "cell_type": "markdown",
   "metadata": {
    "id": "JCQn-g4m5OK2"
   },
   "source": [
    "### **STEP 8: PREDICTING SCORES FOR STUDYING 9.25hrs/DAY**\n",
    "Now that we have trained our algorithm, it's time to make some predictions."
   ]
  },
  {
   "cell_type": "code",
   "execution_count": 9,
   "metadata": {
    "colab": {
     "base_uri": "https://localhost:8080/"
    },
    "id": "Tt-Fmzu55EGM",
    "outputId": "ff584838-d06b-4167-efef-39f6cfcb59ad"
   },
   "outputs": [
    {
     "name": "stdout",
     "output_type": "stream",
     "text": [
      "number of hours=9.25\n",
      "Predicted score= 93.69173248737538\n"
     ]
    }
   ],
   "source": [
    "print(\"number of hours=9.25\") # Testing data - In Hours\n",
    "y_predicted_value=lm.predict([[9.25]])\n",
    "print(\"Predicted score=\",format(y_predicted_value[0])) # Predicting the scores"
   ]
  },
  {
   "cell_type": "markdown",
   "metadata": {
    "id": "Gc7tRqZbNeFZ"
   },
   "source": [
    "### **STEP 9: PREDICTING AND TESTING**"
   ]
  },
  {
   "cell_type": "code",
   "execution_count": 10,
   "metadata": {
    "colab": {
     "base_uri": "https://localhost:8080/",
     "height": 289
    },
    "id": "6bmZUMZh5QLb",
    "outputId": "ea1b0c57-7d7c-4705-8f8e-88561aee3b56"
   },
   "outputs": [
    {
     "name": "stdout",
     "output_type": "stream",
     "text": [
      "[[1.5]\n",
      " [3.2]\n",
      " [7.4]\n",
      " [2.5]\n",
      " [5.9]]\n"
     ]
    },
    {
     "data": {
      "text/html": [
       "<div>\n",
       "<style scoped>\n",
       "    .dataframe tbody tr th:only-of-type {\n",
       "        vertical-align: middle;\n",
       "    }\n",
       "\n",
       "    .dataframe tbody tr th {\n",
       "        vertical-align: top;\n",
       "    }\n",
       "\n",
       "    .dataframe thead th {\n",
       "        text-align: right;\n",
       "    }\n",
       "</style>\n",
       "<table border=\"1\" class=\"dataframe\">\n",
       "  <thead>\n",
       "    <tr style=\"text-align: right;\">\n",
       "      <th></th>\n",
       "      <th>Actual</th>\n",
       "      <th>Predicted</th>\n",
       "    </tr>\n",
       "  </thead>\n",
       "  <tbody>\n",
       "    <tr>\n",
       "      <th>0</th>\n",
       "      <td>20</td>\n",
       "      <td>16.884145</td>\n",
       "    </tr>\n",
       "    <tr>\n",
       "      <th>1</th>\n",
       "      <td>27</td>\n",
       "      <td>33.732261</td>\n",
       "    </tr>\n",
       "    <tr>\n",
       "      <th>2</th>\n",
       "      <td>69</td>\n",
       "      <td>75.357018</td>\n",
       "    </tr>\n",
       "    <tr>\n",
       "      <th>3</th>\n",
       "      <td>30</td>\n",
       "      <td>26.794801</td>\n",
       "    </tr>\n",
       "    <tr>\n",
       "      <th>4</th>\n",
       "      <td>62</td>\n",
       "      <td>60.491033</td>\n",
       "    </tr>\n",
       "  </tbody>\n",
       "</table>\n",
       "</div>"
      ],
      "text/plain": [
       "   Actual  Predicted\n",
       "0      20  16.884145\n",
       "1      27  33.732261\n",
       "2      69  75.357018\n",
       "3      30  26.794801\n",
       "4      62  60.491033"
      ]
     },
     "execution_count": 10,
     "metadata": {},
     "output_type": "execute_result"
    }
   ],
   "source": [
    "print(x_test)#test data\n",
    "y_predicted_value= model.predict(x_test)#predicted data\n",
    "df = pd.DataFrame({'Actual': y_test,'Predicted': y_predicted_value})#comparing actual vs predicted data\n",
    "df "
   ]
  },
  {
   "cell_type": "markdown",
   "metadata": {
    "id": "0AAsPVA_6KmK"
   },
   "source": [
    "### **STEP 10:EVALUATING THE MODEL**\n",
    "\n",
    "**The final step is to evaluate the performance of algorithm. \n",
    "This step is particularly important to compare how well different algorithms perform on a particular dataset.\n",
    "For simplicity here, we have chosen the R-square metric for evaluation.**"
   ]
  },
  {
   "cell_type": "code",
   "execution_count": 11,
   "metadata": {
    "colab": {
     "base_uri": "https://localhost:8080/"
    },
    "id": "r5UOrRH-5VCQ",
    "outputId": "03a901dd-65ab-4fc7-9264-ba1887d773c9"
   },
   "outputs": [
    {
     "name": "stdout",
     "output_type": "stream",
     "text": [
      "                            OLS Regression Results                            \n",
      "==============================================================================\n",
      "Dep. Variable:                      y   R-squared:                       0.953\n",
      "Model:                            OLS   Adj. R-squared:                  0.951\n",
      "Method:                 Least Squares   F-statistic:                     465.8\n",
      "Date:                Sat, 15 May 2021   Prob (F-statistic):           9.13e-17\n",
      "Time:                        01:49:37   Log-Likelihood:                -77.514\n",
      "No. Observations:                  25   AIC:                             159.0\n",
      "Df Residuals:                      23   BIC:                             161.5\n",
      "Df Model:                           1                                         \n",
      "Covariance Type:            nonrobust                                         \n",
      "==============================================================================\n",
      "                 coef    std err          t      P>|t|      [0.025      0.975]\n",
      "------------------------------------------------------------------------------\n",
      "const          2.4837      2.532      0.981      0.337      -2.753       7.721\n",
      "x1             9.7758      0.453     21.583      0.000       8.839      10.713\n",
      "==============================================================================\n",
      "Omnibus:                        7.616   Durbin-Watson:                   1.460\n",
      "Prob(Omnibus):                  0.022   Jarque-Bera (JB):                2.137\n",
      "Skew:                          -0.216   Prob(JB):                        0.343\n",
      "Kurtosis:                       1.634   Cond. No.                         13.0\n",
      "==============================================================================\n",
      "\n",
      "Notes:\n",
      "[1] Standard Errors assume that the covariance matrix of the errors is correctly specified.\n"
     ]
    }
   ],
   "source": [
    "x=sm.add_constant(x)\n",
    "mode=sm.OLS(y,x).fit()\n",
    "predictions=mode.predict(x)\n",
    "print(mode.summary())"
   ]
  },
  {
   "cell_type": "markdown",
   "metadata": {
    "id": "zUiOJM1tNeFh"
   },
   "source": [
    "**THE R-SQUARED VALUE IS 0.953 WHICH MEANS EXPLAINED VARIABILITY OF THE MODEL y=9.91065648x +2.01816000414134683 IS 95.3%**"
   ]
  }
 ],
 "metadata": {
  "colab": {
   "collapsed_sections": [],
   "name": "Task 1: Prediction using Supervised Machine Learning.ipynb",
   "provenance": []
  },
  "kernelspec": {
   "display_name": "Python 3",
   "language": "python",
   "name": "python3"
  },
  "language_info": {
   "codemirror_mode": {
    "name": "ipython",
    "version": 3
   },
   "file_extension": ".py",
   "mimetype": "text/x-python",
   "name": "python",
   "nbconvert_exporter": "python",
   "pygments_lexer": "ipython3",
   "version": "3.7.6"
  }
 },
 "nbformat": 4,
 "nbformat_minor": 1
}
